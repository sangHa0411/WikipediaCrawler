{
 "cells": [
  {
   "cell_type": "code",
   "execution_count": 1,
   "source": [
    "import pandas as pd"
   ],
   "outputs": [],
   "metadata": {}
  },
  {
   "cell_type": "code",
   "execution_count": 16,
   "source": [
    "enterprise = pd.read_csv('./info/enterprise.csv')\n",
    "nation = pd.read_csv('./info/nation.csv')\n",
    "history = pd.read_csv('./info/history.csv')\n",
    "academic = pd.read_csv('./info/academic.csv')"
   ],
   "outputs": [],
   "metadata": {}
  },
  {
   "cell_type": "code",
   "execution_count": 17,
   "source": [
    "urls = list(enterprise['URL']) + list(nation['URL']) + list(history['URL']) + list(academic['URL'])"
   ],
   "outputs": [],
   "metadata": {}
  },
  {
   "cell_type": "code",
   "execution_count": 18,
   "source": [
    "urls = list(set(urls))\n",
    "print('Size of Urls : %d' %len(urls))"
   ],
   "outputs": [
    {
     "output_type": "stream",
     "name": "stdout",
     "text": [
      "Size of Urls : 393535\n"
     ]
    }
   ],
   "metadata": {}
  },
  {
   "cell_type": "code",
   "execution_count": 19,
   "source": [
    "link_df = pd.DataFrame({'ID' : range(1, len(urls)+1), 'URL' : urls})\n",
    "link_df.head()"
   ],
   "outputs": [
    {
     "output_type": "execute_result",
     "data": {
      "text/plain": [
       "   ID                                                URL\n",
       "0   1  https://ko.wikipedia.org/wiki/%ED%86%A0%EB%A1%...\n",
       "1   2  https://ko.wikipedia.org/wiki/%ED%8C%8C%EC%9D%...\n",
       "2   3  https://ko.wikipedia.org/wiki/%EB%B0%98%EC%86%...\n",
       "3   4  https://ko.wikipedia.org/wiki/%EC%A0%84%EA%B3%...\n",
       "4   5  https://ko.wikipedia.org/wiki/%EC%88%98%EC%9B%..."
      ],
      "text/html": [
       "<div>\n",
       "<style scoped>\n",
       "    .dataframe tbody tr th:only-of-type {\n",
       "        vertical-align: middle;\n",
       "    }\n",
       "\n",
       "    .dataframe tbody tr th {\n",
       "        vertical-align: top;\n",
       "    }\n",
       "\n",
       "    .dataframe thead th {\n",
       "        text-align: right;\n",
       "    }\n",
       "</style>\n",
       "<table border=\"1\" class=\"dataframe\">\n",
       "  <thead>\n",
       "    <tr style=\"text-align: right;\">\n",
       "      <th></th>\n",
       "      <th>ID</th>\n",
       "      <th>URL</th>\n",
       "    </tr>\n",
       "  </thead>\n",
       "  <tbody>\n",
       "    <tr>\n",
       "      <th>0</th>\n",
       "      <td>1</td>\n",
       "      <td>https://ko.wikipedia.org/wiki/%ED%86%A0%EB%A1%...</td>\n",
       "    </tr>\n",
       "    <tr>\n",
       "      <th>1</th>\n",
       "      <td>2</td>\n",
       "      <td>https://ko.wikipedia.org/wiki/%ED%8C%8C%EC%9D%...</td>\n",
       "    </tr>\n",
       "    <tr>\n",
       "      <th>2</th>\n",
       "      <td>3</td>\n",
       "      <td>https://ko.wikipedia.org/wiki/%EB%B0%98%EC%86%...</td>\n",
       "    </tr>\n",
       "    <tr>\n",
       "      <th>3</th>\n",
       "      <td>4</td>\n",
       "      <td>https://ko.wikipedia.org/wiki/%EC%A0%84%EA%B3%...</td>\n",
       "    </tr>\n",
       "    <tr>\n",
       "      <th>4</th>\n",
       "      <td>5</td>\n",
       "      <td>https://ko.wikipedia.org/wiki/%EC%88%98%EC%9B%...</td>\n",
       "    </tr>\n",
       "  </tbody>\n",
       "</table>\n",
       "</div>"
      ]
     },
     "metadata": {},
     "execution_count": 19
    }
   ],
   "metadata": {}
  },
  {
   "cell_type": "code",
   "execution_count": 20,
   "source": [
    "link_df.to_csv('./info/wikipedia.csv')"
   ],
   "outputs": [],
   "metadata": {}
  }
 ],
 "metadata": {
  "orig_nbformat": 4,
  "language_info": {
   "name": "python",
   "version": "3.8.5",
   "mimetype": "text/x-python",
   "codemirror_mode": {
    "name": "ipython",
    "version": 3
   },
   "pygments_lexer": "ipython3",
   "nbconvert_exporter": "python",
   "file_extension": ".py"
  },
  "kernelspec": {
   "name": "python3",
   "display_name": "Python 3.8.5 64-bit ('myenv': conda)"
  },
  "interpreter": {
   "hash": "0f3bfd2cb0299839ce7ba26399295e5b1cd71284d6a1bd96da86424b1368570e"
  }
 },
 "nbformat": 4,
 "nbformat_minor": 2
}